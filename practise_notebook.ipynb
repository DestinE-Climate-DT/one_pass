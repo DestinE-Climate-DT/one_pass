{
 "cells": [
  {
   "cell_type": "code",
   "execution_count": 2,
   "metadata": {},
   "outputs": [
    {
     "ename": "ModuleNotFoundError",
     "evalue": "No module named 'intake'",
     "output_type": "error",
     "traceback": [
      "\u001b[0;31m---------------------------------------------------------------------------\u001b[0m",
      "\u001b[0;31mModuleNotFoundError\u001b[0m                       Traceback (most recent call last)",
      "\u001b[0;32m<ipython-input-2-be8c3323084e>\u001b[0m in \u001b[0;36m<module>\u001b[0;34m\u001b[0m\n\u001b[1;32m      1\u001b[0m \u001b[0;32mimport\u001b[0m \u001b[0myaml\u001b[0m\u001b[0;34m\u001b[0m\u001b[0;34m\u001b[0m\u001b[0m\n\u001b[0;32m----> 2\u001b[0;31m \u001b[0;32mimport\u001b[0m \u001b[0mintake\u001b[0m\u001b[0;34m\u001b[0m\u001b[0;34m\u001b[0m\u001b[0m\n\u001b[0m\u001b[1;32m      3\u001b[0m \u001b[0;34m\u001b[0m\u001b[0m\n\u001b[1;32m      4\u001b[0m \u001b[0;32mdef\u001b[0m \u001b[0mload_yaml\u001b[0m\u001b[0;34m(\u001b[0m\u001b[0minfile\u001b[0m\u001b[0;34m)\u001b[0m\u001b[0;34m:\u001b[0m\u001b[0;34m\u001b[0m\u001b[0;34m\u001b[0m\u001b[0m\n\u001b[1;32m      5\u001b[0m     \u001b[0;34m\"\"\"Load generic yaml file\"\"\"\u001b[0m\u001b[0;34m\u001b[0m\u001b[0;34m\u001b[0m\u001b[0m\n",
      "\u001b[0;31mModuleNotFoundError\u001b[0m: No module named 'intake'"
     ]
    }
   ],
   "source": [
    "import yaml\n",
    "import intake\n",
    "\n",
    "def load_yaml(infile):\n",
    "    \"\"\"Load generic yaml file\"\"\"\n",
    "\n",
    "    try:\n",
    "        with open(infile, 'r', encoding='utf-8') as file:\n",
    "            cfg = yaml.load(file, Loader=yaml.FullLoader)\n",
    "    except IOError:\n",
    "        sys.exit(f'ERROR: {infile} not found: you need to have this configuration file!')\n",
    "    return cfg\n",
    "\n",
    "\n",
    "filePath = '/esarchive/scratch/kgrayson/git/one_pass/config.yml'\n",
    "\n",
    "load_yaml(filePath)\n",
    "\n",
    "content = open(filePath).read()\n"
   ]
  },
  {
   "cell_type": "code",
   "execution_count": 1,
   "metadata": {},
   "outputs": [],
   "source": [
    "# script for unit testing in python \n",
    "# test_mean_nextGEMS.py\n",
    "\n",
    "import unittest\n",
    "# import relevant libraries \n",
    "import numpy as np\n",
    "import xarray as xr \n",
    "import pandas as pd\n",
    "import glob\n",
    "from datetime import datetime, timedelta\n",
    "import importlib\n",
    "imported_module = importlib.import_module(\"meanOPA\")\n",
    "importlib.reload(imported_module)\n",
    "from meanOPA import *\n",
    "from meanOPA import meanOPA # from module (file.py) import class name \n",
    "\n",
    "#importlib.reload(meanOPA)\n",
    "\n",
    "#filePath = '/esarchive/scratch/kgrayson/git/one_pass/config.yml'\n",
    "\n",
    "# then run the meanOPA with the config file \n",
    "meanOpa = meanOPA()\n",
    "ds = xr.open_dataset(meanOpa.filePath) # open dataset \n",
    "\n",
    "# this simulates the streaming, at the moment the config file just gives the file path of the data \n",
    "for i in range(24): \n",
    "#\n",
    "    ds1 = ds.isel(time=slice(i,i+1)) # slice(start, stop, step), extract 'moving window' which is hourly data\n",
    "    dm = meanOpa.mean(ds1)\n",
    "\n",
    "# then import all the modules that you require for the function \n",
    "\n",
    "class TestMeanOPA(unittest.TestCase): \n",
    "\n",
    "    def test_file(self): # test that dm matches the netCDF output\n",
    "\n",
    "        # test output of mean function against .nc file, will only run this test if it saves the output eg. config save = true \n",
    "        if (meanOpa.save == \"true\"):\n",
    "            self.assertAlmostEqual(dm, meanOpa.filePathSave)\n",
    "    \n",
    "    # this test compares against the actual mean computes \n",
    "    def test_mean(self):\n",
    "\n",
    "        npMean = np.mean(ds.tas, axis = 0, dtype = np.float64)\n",
    "        npMean = np.squeeze(npMean)\n",
    "\n",
    "        decimalPlace = 7\n",
    "        message = \"OPA mean and numpy mean not equal to 7 dp\"\n",
    "\n",
    "        self.assertAlmostEqual(dm, npMean, decimalPlace, message)\n"
   ]
  },
  {
   "cell_type": "code",
   "execution_count": 3,
   "metadata": {},
   "outputs": [
    {
     "data": {
      "text/plain": [
       "'/esarchive/scratch/alacima/projects/destination_earth/icon/tas-uas-vas-ngc2009_atm_2d_1h_inst_20200501T000000Z_5km.nc'"
      ]
     },
     "execution_count": 3,
     "metadata": {},
     "output_type": "execute_result"
    }
   ],
   "source": [
    "meanOpa.filePath"
   ]
  },
  {
   "cell_type": "code",
   "execution_count": null,
   "metadata": {},
   "outputs": [],
   "source": []
  }
 ],
 "metadata": {
  "kernelspec": {
   "display_name": "Python 3",
   "language": "python",
   "name": "python3"
  },
  "orig_nbformat": 4
 },
 "nbformat": 4,
 "nbformat_minor": 2
}
