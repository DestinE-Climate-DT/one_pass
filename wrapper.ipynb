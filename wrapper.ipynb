{
 "cells": [
  {
   "cell_type": "code",
   "execution_count": 1,
   "metadata": {},
   "outputs": [],
   "source": [
    "%matplotlib inline\n",
    "import xarray as xr\n",
    "import numpy as np \n",
    "import glob \n",
    "import os \n",
    "import pickle\n",
    "from tdigest import TDigest\n",
    "import matplotlib\n",
    "import matplotlib.pyplot as plt\n",
    "\n",
    "os.chdir(\"/home/bsc32/bsc32263/git/one_pass\")\n",
    "from one_pass.opa import *\n",
    "from one_pass.opa import Opa"
   ]
  },
  {
   "cell_type": "code",
   "execution_count": 5,
   "metadata": {},
   "outputs": [],
   "source": [
    "## imagine this is the gsv request ## \n",
    "## include your data here (eg. gsv data, nextGEMS, must be on lat lon grid) ## \n",
    "filePathData = \"/esarchive/scratch/alacima/projects/destination_earth/icon/*.nc\"\n",
    "fileList = glob.glob(filePathData) \n",
    "fileList.sort() \n",
    "data = xr.open_dataset(fileList[0]) # open dataset\n",
    "uas = np.squeeze(data.uas)\n"
   ]
  },
  {
   "cell_type": "code",
   "execution_count": 6,
   "metadata": {},
   "outputs": [],
   "source": [
    "pass_dic = {\"stat\": \"mean\",\n",
    "\"stat_freq\": \"daily\",\n",
    "\"output_freq\": \"daily\",\n",
    "\"time_step\": 60,\n",
    "\"variable\": \"tas\",\n",
    "\"save\": True,\n",
    "\"checkpoint\":True,\n",
    "\"checkpoint_in_file\": \"/home/bsc32/bsc32263/git/data/checkpoint_in_mean_daily_tas.nc\",\n",
    "\"checkpoint_out_file\": \"/home/bsc32/bsc32263/git/data/checkpoint_in_mean_daily_tas.nc\",\n",
    "\"out_file\": \"/home/bsc32/bsc32263/git/data\"}"
   ]
  },
  {
   "cell_type": "code",
   "execution_count": 7,
   "metadata": {},
   "outputs": [],
   "source": [
    "daily_mean = Opa(\"config.yml\")\n",
    "#daily_mean = Opa(pass_dic)"
   ]
  },
  {
   "cell_type": "code",
   "execution_count": 9,
   "metadata": {},
   "outputs": [
    {
     "data": {
      "text/plain": [
       "'mean'"
      ]
     },
     "execution_count": 9,
     "metadata": {},
     "output_type": "execute_result"
    }
   ],
   "source": [
    "daily_mean.statistic"
   ]
  },
  {
   "cell_type": "code",
   "execution_count": 10,
   "metadata": {},
   "outputs": [],
   "source": [
    "file_name = \"testfile\"\n",
    "\n",
    "with open(file_name, 'wb') as file: \n",
    "    pickle.dump(daily_mean, file)"
   ]
  },
  {
   "cell_type": "code",
   "execution_count": 12,
   "metadata": {},
   "outputs": [],
   "source": [
    "# reloading the object \n",
    "file_name = \"testfile\"\n",
    "\n",
    "with open(file_name, 'rb') as file: \n",
    "    daily_mean2 = pickle.load(file)"
   ]
  },
  {
   "cell_type": "code",
   "execution_count": 13,
   "metadata": {},
   "outputs": [
    {
     "data": {
      "text/plain": [
       "'mean'"
      ]
     },
     "execution_count": 13,
     "metadata": {},
     "output_type": "execute_result"
    }
   ],
   "source": [
    "daily_mean2.statistic"
   ]
  },
  {
   "cell_type": "code",
   "execution_count": 4,
   "metadata": {},
   "outputs": [
    {
     "ename": "KeyError",
     "evalue": "'output_freq'",
     "output_type": "error",
     "traceback": [
      "\u001b[0;31m---------------------------------------------------------------------------\u001b[0m",
      "\u001b[0;31mKeyError\u001b[0m                                  Traceback (most recent call last)",
      "\u001b[0;32m<ipython-input-4-e26ed02e64cb>\u001b[0m in \u001b[0;36m<module>\u001b[0;34m\u001b[0m\n\u001b[1;32m      5\u001b[0m \u001b[0;34m\u001b[0m\u001b[0m\n\u001b[1;32m      6\u001b[0m     \u001b[0mds\u001b[0m \u001b[0;34m=\u001b[0m \u001b[0mdata\u001b[0m\u001b[0;34m.\u001b[0m\u001b[0misel\u001b[0m\u001b[0;34m(\u001b[0m\u001b[0mtime\u001b[0m\u001b[0;34m=\u001b[0m\u001b[0mslice\u001b[0m\u001b[0;34m(\u001b[0m\u001b[0mi\u001b[0m\u001b[0;34m,\u001b[0m\u001b[0mi\u001b[0m\u001b[0;34m+\u001b[0m\u001b[0;36m1\u001b[0m\u001b[0;34m)\u001b[0m\u001b[0;34m)\u001b[0m \u001b[0;31m# extract moving window of tas variable\u001b[0m\u001b[0;34m\u001b[0m\u001b[0;34m\u001b[0m\u001b[0m\n\u001b[0;32m----> 7\u001b[0;31m     \u001b[0mdm\u001b[0m \u001b[0;34m=\u001b[0m \u001b[0mdaily_mean\u001b[0m\u001b[0;34m.\u001b[0m\u001b[0mcompute\u001b[0m\u001b[0;34m(\u001b[0m\u001b[0mds\u001b[0m\u001b[0;34m,\u001b[0m \u001b[0;34m\"config.yml\"\u001b[0m\u001b[0;34m)\u001b[0m\u001b[0;34m\u001b[0m\u001b[0;34m\u001b[0m\u001b[0m\n\u001b[0m\u001b[1;32m      8\u001b[0m \u001b[0;34m\u001b[0m\u001b[0m\n\u001b[1;32m      9\u001b[0m \u001b[0;31m#dm\u001b[0m\u001b[0;34m\u001b[0m\u001b[0;34m\u001b[0m\u001b[0;34m\u001b[0m\u001b[0m\n",
      "\u001b[0;32m/.statelite/tmpfs/gpfs/home/bsc32/bsc32263/git/one_pass/one_pass/opa.py\u001b[0m in \u001b[0;36mcompute\u001b[0;34m(self, ds, request)\u001b[0m\n\u001b[1;32m    579\u001b[0m         \u001b[0mrequest\u001b[0m \u001b[0;34m=\u001b[0m \u001b[0mutil\u001b[0m\u001b[0;34m.\u001b[0m\u001b[0mparse_request\u001b[0m\u001b[0;34m(\u001b[0m\u001b[0mrequest\u001b[0m\u001b[0;34m)\u001b[0m\u001b[0;34m\u001b[0m\u001b[0;34m\u001b[0m\u001b[0m\n\u001b[1;32m    580\u001b[0m \u001b[0;34m\u001b[0m\u001b[0m\n\u001b[0;32m--> 581\u001b[0;31m         \u001b[0mself\u001b[0m\u001b[0;34m.\u001b[0m\u001b[0m_process_request\u001b[0m\u001b[0;34m(\u001b[0m\u001b[0mrequest\u001b[0m\u001b[0;34m)\u001b[0m\u001b[0;34m\u001b[0m\u001b[0;34m\u001b[0m\u001b[0m\n\u001b[0m\u001b[1;32m    582\u001b[0m \u001b[0;34m\u001b[0m\u001b[0m\n\u001b[1;32m    583\u001b[0m         \u001b[0mds\u001b[0m \u001b[0;34m=\u001b[0m \u001b[0mself\u001b[0m\u001b[0;34m.\u001b[0m\u001b[0m_check_variable\u001b[0m\u001b[0;34m(\u001b[0m\u001b[0mds\u001b[0m\u001b[0;34m)\u001b[0m \u001b[0;31m# convert from a data_set to a data_array if required\u001b[0m\u001b[0;34m\u001b[0m\u001b[0;34m\u001b[0m\u001b[0m\n",
      "\u001b[0;32m/.statelite/tmpfs/gpfs/home/bsc32/bsc32263/git/one_pass/one_pass/opa.py\u001b[0m in \u001b[0;36m_process_request\u001b[0;34m(self, user_request)\u001b[0m\n\u001b[1;32m     26\u001b[0m         \u001b[0mself\u001b[0m\u001b[0;34m.\u001b[0m\u001b[0mstatistic\u001b[0m \u001b[0;34m=\u001b[0m \u001b[0muser_request\u001b[0m\u001b[0;34m[\u001b[0m\u001b[0;34m\"statistic\"\u001b[0m\u001b[0;34m]\u001b[0m\u001b[0;34m\u001b[0m\u001b[0;34m\u001b[0m\u001b[0m\n\u001b[1;32m     27\u001b[0m         \u001b[0mself\u001b[0m\u001b[0;34m.\u001b[0m\u001b[0mstat_freq\u001b[0m \u001b[0;34m=\u001b[0m \u001b[0muser_request\u001b[0m\u001b[0;34m[\u001b[0m\u001b[0;34m\"stat_freq\"\u001b[0m\u001b[0;34m]\u001b[0m\u001b[0;34m\u001b[0m\u001b[0;34m\u001b[0m\u001b[0m\n\u001b[0;32m---> 28\u001b[0;31m         \u001b[0mself\u001b[0m\u001b[0;34m.\u001b[0m\u001b[0moutput_freq\u001b[0m \u001b[0;34m=\u001b[0m \u001b[0muser_request\u001b[0m\u001b[0;34m[\u001b[0m\u001b[0;34m\"output_freq\"\u001b[0m\u001b[0;34m]\u001b[0m\u001b[0;34m\u001b[0m\u001b[0;34m\u001b[0m\u001b[0m\n\u001b[0m\u001b[1;32m     29\u001b[0m         \u001b[0mself\u001b[0m\u001b[0;34m.\u001b[0m\u001b[0msave\u001b[0m \u001b[0;34m=\u001b[0m \u001b[0muser_request\u001b[0m\u001b[0;34m[\u001b[0m\u001b[0;34m\"save\"\u001b[0m\u001b[0;34m]\u001b[0m\u001b[0;34m\u001b[0m\u001b[0;34m\u001b[0m\u001b[0m\n\u001b[1;32m     30\u001b[0m         \u001b[0mself\u001b[0m\u001b[0;34m.\u001b[0m\u001b[0mtime_step\u001b[0m \u001b[0;34m=\u001b[0m \u001b[0muser_request\u001b[0m\u001b[0;34m[\u001b[0m\u001b[0;34m\"time_step\"\u001b[0m\u001b[0;34m]\u001b[0m \u001b[0;31m# this is int value in minutes\u001b[0m\u001b[0;34m\u001b[0m\u001b[0;34m\u001b[0m\u001b[0m\n",
      "\u001b[0;31mKeyError\u001b[0m: 'output_freq'"
     ]
    }
   ],
   "source": [
    "#file_path = \"/home/bsc32/bsc32263/git/one_pass/config.yml\"\n",
    "\n",
    "\n",
    "for i in range(0, 1, 1): \n",
    "\n",
    "    ds = data.isel(time=slice(i,i+1)) # extract moving window of tas variable\n",
    "    dm = daily_mean.compute(ds)\n",
    "\n",
    "dm"
   ]
  },
  {
   "cell_type": "code",
   "execution_count": 5,
   "metadata": {},
   "outputs": [
    {
     "data": {
      "text/plain": [
       "'mean'"
      ]
     },
     "execution_count": 5,
     "metadata": {},
     "output_type": "execute_result"
    }
   ],
   "source": [
    "daily_mean.statistic\n"
   ]
  },
  {
   "cell_type": "code",
   "execution_count": 22,
   "metadata": {},
   "outputs": [
    {
     "data": {
      "text/plain": [
       "2"
      ]
     },
     "execution_count": 22,
     "metadata": {},
     "output_type": "execute_result"
    }
   ],
   "source": [
    "daily_mean.count"
   ]
  },
  {
   "cell_type": "code",
   "execution_count": 13,
   "metadata": {},
   "outputs": [
    {
     "data": {
      "text/plain": [
       "{'levtype': 'sfc',\n",
       " 'date': ['20050401'],\n",
       " 'time': ['0000',\n",
       "  '0100',\n",
       "  '0200',\n",
       "  '0300',\n",
       "  '0400',\n",
       "  '0500',\n",
       "  '0600',\n",
       "  '0700',\n",
       "  '0800',\n",
       "  '0900',\n",
       "  '1000',\n",
       "  '1100',\n",
       "  '1200',\n",
       "  '1300',\n",
       "  '1400',\n",
       "  '1500',\n",
       "  '1600',\n",
       "  '1700',\n",
       "  '1800',\n",
       "  '1900',\n",
       "  '2000',\n",
       "  '2100',\n",
       "  '2200',\n",
       "  '2300'],\n",
       " 'time_step': 60,\n",
       " 'step': '0',\n",
       " 'param': ['165', '166', '167'],\n",
       " 'stat': ['mean', 'mean', 'std'],\n",
       " 'stat_freq': ['hourly', 'daily', 'daily'],\n",
       " 'file_path_save': '/home/bsc32/bsc32263/git/data',\n",
       " 'stats': {'mean': {'var_id': '165',\n",
       "   'stat_freq': ['daily'],\n",
       "   'time_step': ['0300']},\n",
       "  'sdev': {'var_id': '160', 'stat_freq': ['daily'], 'time_step': ['0300']}}}"
      ]
     },
     "execution_count": 13,
     "metadata": {},
     "output_type": "execute_result"
    }
   ],
   "source": [
    "from one_pass.util import load_yaml\n",
    "\n",
    "file_path = \"/home/bsc32/bsc32263/git/one_pass/config.yml\"\n",
    "#file_path = \"/home/bsc32/bsc32263/git/gsv_interface/request.yaml\"\n",
    "config = load_yaml(file_path)\n",
    "\n",
    "config"
   ]
  },
  {
   "cell_type": "code",
   "execution_count": 19,
   "metadata": {},
   "outputs": [
    {
     "data": {
      "text/plain": [
       "1"
      ]
     },
     "execution_count": 19,
     "metadata": {},
     "output_type": "execute_result"
    }
   ],
   "source": [
    "np.size(config[\"stats\"])"
   ]
  },
  {
   "cell_type": "code",
   "execution_count": null,
   "metadata": {},
   "outputs": [],
   "source": [
    "# IMPORT PACKAGES \n",
    "\n",
    "# GET GSV DATA (SAY TWO HOURS AVALIABLE)\n",
    "\n",
    "daily_std = Opa(statistic = \"std\", stat_freq = \"daily\", output_freq = \"daily\", save = False, variable = \"tas\", config_path = file_path)\n",
    "dm = daily_std.compute(ds)\n",
    "\n",
    "daily_std = Opa(\"file or seperate dictionary\") \n",
    "daily_std.initialise_from_file(file.yaml)\n",
    "\n",
    "# initialise needs to contain a checkpoint file \"checkpoint_opa_tas_##.nc\"\n",
    "\n",
    "# changes: \n",
    "# want this to come from a config file \n",
    "# don't want to have to run two lines, as we can't initalise every time \n",
    "# OR \n",
    "# initialise everytime but inside .compute also looks for files saved to disk"
   ]
  }
 ],
 "metadata": {
  "kernelspec": {
   "display_name": "Python 3",
   "language": "python",
   "name": "python3"
  },
  "language_info": {
   "codemirror_mode": {
    "name": "ipython",
    "version": 3
   },
   "file_extension": ".py",
   "mimetype": "text/x-python",
   "name": "python",
   "nbconvert_exporter": "python",
   "pygments_lexer": "ipython3",
   "version": "3.7.4"
  },
  "orig_nbformat": 4
 },
 "nbformat": 4,
 "nbformat_minor": 2
}
